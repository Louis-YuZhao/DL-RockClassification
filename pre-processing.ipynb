{
 "cells": [
  {
   "cell_type": "markdown",
   "metadata": {},
   "source": [
    "# Data preprocessing\n",
    "it contains two large modules:\n",
    "process X and process Y"
   ]
  },
  {
   "cell_type": "code",
   "execution_count": 1,
   "metadata": {
    "collapsed": true
   },
   "outputs": [],
   "source": [
    "import arcpy\n",
    "import numpy as np\n",
    "import os, glob\n",
    "import matplotlib.pyplot as plt\n",
    "%matplotlib inline"
   ]
  },
  {
   "cell_type": "code",
   "execution_count": 2,
   "metadata": {},
   "outputs": [
    {
     "data": {
      "text/plain": [
       "'Available'"
      ]
     },
     "execution_count": 2,
     "metadata": {},
     "output_type": "execute_result"
    }
   ],
   "source": [
    "arcpy.CheckExtension('ImageAnalyst')"
   ]
  },
  {
   "cell_type": "code",
   "execution_count": 4,
   "metadata": {
    "collapsed": true
   },
   "outputs": [],
   "source": [
    "topDir = r'C:\\Users\\yuch\\Downloads\\thesis\\data\\block1\\raw_data\\S2B_MSIL2A_20180403T005709_N0206_R002_T54KUB_20180403T023306.SAFE\\GRANULE\\L2A_T54KUB_A005605_20180403T005704\\IMG_DATA'"
   ]
  },
  {
   "cell_type": "markdown",
   "metadata": {},
   "source": [
    "## process X\n",
    "### X from sentinal 2 L2A data\n",
    "#### check bands and resolutions, resample all bands to 10m\n",
    "resolution 10m: band2(blue), band3(green), band4(red), band8(nir)<br>\n",
    "need to be resampled to R10m: band5, band6, band7, band8A, band11, band12<br>\n",
    "band1, band9, band10 are useless, only for correction\n",
    "so the total num of bands is 10"
   ]
  },
  {
   "cell_type": "code",
   "execution_count": 5,
   "metadata": {
    "collapsed": true
   },
   "outputs": [],
   "source": [
    "resample_bands = ['B05', 'B06', 'B07', 'B8A', 'B11', 'B12']"
   ]
  },
  {
   "cell_type": "code",
   "execution_count": 26,
   "metadata": {
    "collapsed": true
   },
   "outputs": [],
   "source": [
    "# do the resample\n",
    "resolution = \"10 10\"\n",
    "for band in resample_bands:\n",
    "    inpath = glob.glob(topDir+'/R20m/*_{0}_20m.jp2'.format(band))[0]\n",
    "    outpath = topDir+'/R10m/T54KUB_20180403T005709_{0}_10m.jp2'.format(band)\n",
    "    arcpy.Resample_management(inpath, outpath, resolution, \"NEAREST\")"
   ]
  },
  {
   "cell_type": "code",
   "execution_count": 106,
   "metadata": {
    "collapsed": true
   },
   "outputs": [],
   "source": [
    "# resample of other data"
   ]
  },
  {
   "cell_type": "markdown",
   "metadata": {},
   "source": [
    "#### composite all useful bands into a multiband raster\n",
    "| band | meaning |\n",
    "|-------|------|\n",
    "| 0     | Blue |\n",
    "| 1     | Green |\n",
    "| 2     | Red |\n",
    "| 3     | VRE |\n",
    "| 4     | VRE |\n",
    "| 5     | VRE |\n",
    "| 6     | NIR |\n",
    "| 7     | SWIR |\n",
    "| 8     | SWIR |\n",
    "| 9     | VRE |\n",
    "| 10    | K |\n",
    "| 11    | Kpcent |\n",
    "| 12    | TH |\n",
    "| 13    | U |\n",
    "| 14    | U2 |\n",
    "| 15    | magnetic |\n",
    "| 16    | U over K |\n",
    "| 17    | U over TH |\n",
    "| 18    | K over TH |\n",
    "| 19    | K over U |\n",
    "| 20    | U2 over TH |\n",
    "| 21    | TH over U |\n",
    "| 22    | TH over K |"
   ]
  },
  {
   "cell_type": "code",
   "execution_count": 5,
   "metadata": {
    "collapsed": true
   },
   "outputs": [],
   "source": [
    "inbands = ';'.join(sorted(glob.glob(topDir+'/R10m/*_B*_10m.jp2')))"
   ]
  },
  {
   "cell_type": "code",
   "execution_count": null,
   "metadata": {
    "collapsed": true
   },
   "outputs": [],
   "source": [
    "# the output multiband raster will be stored in this workspace\n",
    "arcpy.env.workspace = r'C:\\Users\\yuch\\Downloads\\thesis\\Workspace\\block1'\n",
    "arcpy.CompositeBands_management(in_rasters=inbands, out_raster='multibands.jp2')"
   ]
  },
  {
   "cell_type": "markdown",
   "metadata": {},
   "source": [
    "#### clip the raw input "
   ]
  },
  {
   "cell_type": "code",
   "execution_count": null,
   "metadata": {
    "collapsed": true
   },
   "outputs": [],
   "source": [
    "arcpy.Clip_management(r'C:\\Users\\yuch\\Downloads\\thesis\\Workspace\\block1\\multibands.jp2', \n",
    "                      '300000 7590220 371370 7700020',\n",
    "                      r'C:\\Users\\yuch\\Downloads\\thesis\\data\\block1\\raw_data\\clip_multibands.jp2', \n",
    "                      \"#\", \"#\", \"NONE\", \"NO_MAINTAIN_EXTENT\")"
   ]
  },
  {
   "cell_type": "code",
   "execution_count": null,
   "metadata": {
    "collapsed": true
   },
   "outputs": [],
   "source": [
    "size=100\n",
    "multibands = arcpy.sa.Raster(r'C:\\Users\\yuch\\Downloads\\thesis\\data\\block1\\raw_data\\clip_multibands.jp2')\n",
    "arr_raster = arcpy.RasterToNumPyArray(multibands)\n",
    "img = np.transpose(arr_raster[:3,:,:]/10000., (1,2,0))[::size,::size,::-1]\n",
    "plt.imshow(img)"
   ]
  },
  {
   "cell_type": "markdown",
   "metadata": {},
   "source": [
    "#### combine with geophysical and ASTER data"
   ]
  },
  {
   "cell_type": "markdown",
   "metadata": {},
   "source": [
    "#### calculate NDVI"
   ]
  },
  {
   "cell_type": "code",
   "execution_count": 3,
   "metadata": {
    "collapsed": true
   },
   "outputs": [],
   "source": [
    "work_dir = r'C:\\Users\\yuch\\Downloads\\thesis\\data\\block1\\raw_data\\workspace'"
   ]
  },
  {
   "cell_type": "code",
   "execution_count": 17,
   "metadata": {
    "collapsed": true
   },
   "outputs": [],
   "source": [
    "def calc_NDVI(raster, red_band, nir_band):\n",
    "    \"\"\"\n",
    "    input: \n",
    "            raster: string, path to raster\n",
    "            red_band: int\n",
    "            nir_band: int\n",
    "    output:\n",
    "            ndvi: raster, ndvi\n",
    "    \"\"\"\n",
    "    nir = arcpy.sa.Raster(raster+'/Band_{0}'.format(nir_band))\n",
    "    red = arcpy.sa.Raster(raster+'/Band_{0}'.format(red_band))\n",
    "    ndvi = arcpy.sa.Divide(arcpy.sa.Float(nir - red),\n",
    "                           arcpy.sa.Float(nir + red))\n",
    "    return ndvi"
   ]
  },
  {
   "cell_type": "code",
   "execution_count": 18,
   "metadata": {
    "collapsed": true
   },
   "outputs": [],
   "source": [
    "ndvi = calc_NDVI(work_dir+'/clip_multibands.jp2', \n",
    "                 3, 7)"
   ]
  },
  {
   "cell_type": "code",
   "execution_count": 15,
   "metadata": {
    "collapsed": true,
    "scrolled": true
   },
   "outputs": [],
   "source": [
    "ndvi.save(work_dir+'/ndvi.tif')"
   ]
  },
  {
   "cell_type": "code",
   "execution_count": 20,
   "metadata": {
    "collapsed": true
   },
   "outputs": [],
   "source": [
    "th = 0.3"
   ]
  },
  {
   "cell_type": "code",
   "execution_count": 27,
   "metadata": {
    "collapsed": true
   },
   "outputs": [],
   "source": [
    "rocks = arcpy.sa.Con(ndvi, 1, 0, 'VALUE <= {0}'.format(th))\n",
    "rocks_mask = arcpy.sa.Con(ndvi, 1, where_clause='VALUE <= {0}'.format(th))"
   ]
  },
  {
   "cell_type": "code",
   "execution_count": 21,
   "metadata": {
    "collapsed": true
   },
   "outputs": [],
   "source": [
    "veges = arcpy.sa.Con(ndvi, 1, 0, 'VALUE > {0}'.format(th))"
   ]
  },
  {
   "cell_type": "code",
   "execution_count": 22,
   "metadata": {
    "collapsed": true
   },
   "outputs": [],
   "source": [
    "veges.save(work_dir+'/veges.tif')"
   ]
  },
  {
   "cell_type": "code",
   "execution_count": 25,
   "metadata": {
    "collapsed": true
   },
   "outputs": [],
   "source": [
    "rocks.save(work_dir+'/rocks.tif')"
   ]
  },
  {
   "cell_type": "code",
   "execution_count": 28,
   "metadata": {
    "collapsed": true
   },
   "outputs": [],
   "source": [
    "rocks_mask.save(work_dir+'/rocks_mask.tif')"
   ]
  },
  {
   "cell_type": "markdown",
   "metadata": {},
   "source": [
    "#### deal with Y"
   ]
  },
  {
   "cell_type": "code",
   "execution_count": 24,
   "metadata": {
    "collapsed": true
   },
   "outputs": [],
   "source": [
    "labels = ['T', 'Breccia', 'Carbonate_sediment', 'Dolerite',\n",
    "          'Feldspathic_sediment', 'Felsic_volcanic', 'Gneiss', 'Granite',\n",
    "          'Graphite_sediment', 'Mafic_volcanic', 'Quartz_sediment']"
   ]
  },
  {
   "cell_type": "code",
   "execution_count": 6,
   "metadata": {
    "collapsed": true
   },
   "outputs": [],
   "source": [
    "label_dir = r'C:\\Users\\yuch\\Downloads\\thesis\\data\\labels_splits'"
   ]
  },
  {
   "cell_type": "code",
   "execution_count": 9,
   "metadata": {
    "collapsed": true
   },
   "outputs": [],
   "source": [
    "work_dir = r'C:\\Users\\yuch\\Downloads\\thesis\\data\\block1\\raw_data\\workspace'"
   ]
  },
  {
   "cell_type": "code",
   "execution_count": 7,
   "metadata": {
    "collapsed": true
   },
   "outputs": [],
   "source": [
    "arcpy.env.workspace = r'C:\\Users\\yuch\\Downloads\\thesis\\data\\block1\\raw_data\\workspace\\labels'"
   ]
  },
  {
   "cell_type": "code",
   "execution_count": 28,
   "metadata": {
    "collapsed": true
   },
   "outputs": [],
   "source": [
    "rocks = arcpy.sa.Raster(work_dir+'/rocks_mask.tif')"
   ]
  },
  {
   "cell_type": "code",
   "execution_count": 36,
   "metadata": {
    "scrolled": false
   },
   "outputs": [
    {
     "name": "stdout",
     "output_type": "stream",
     "text": [
      "extracting T\n",
      "extracting Breccia\n",
      "Breccia is not in the current block\n",
      "extracting Carbonate_sediment\n",
      "extracting Dolerite\n",
      "extracting Feldspathic_sediment\n",
      "extracting Felsic_volcanic\n",
      "extracting Gneiss\n",
      "extracting Granite\n",
      "extracting Graphite_sediment\n",
      "Graphite_sediment is not in the current block\n",
      "extracting Mafic_volcanic\n",
      "extracting Quartz_sediment\n"
     ]
    }
   ],
   "source": [
    "label_layers = {'Vegetations': veges}\n",
    "for label_name in labels:\n",
    "    try:\n",
    "        print('extracting {0}'.format(label_name))\n",
    "        label_layers.update({label_name: arcpy.sa.ExtractByMask(rocks, \n",
    "                                              label_dir+'/{0}.shp'.format(label_name))})\n",
    "    except :\n",
    "        print('{0} is not in the current block'.format(label_name))"
   ]
  },
  {
   "cell_type": "markdown",
   "metadata": {},
   "source": [
    "#### composite all labels"
   ]
  },
  {
   "cell_type": "code",
   "execution_count": 101,
   "metadata": {},
   "outputs": [
    {
     "ename": "ExecuteError",
     "evalue": "Failed to execute. Parameters are not valid.\nERROR 000725: Output Raster: Dataset C:\\Users\\yuch\\Downloads\\thesis\\data\\block1\\raw_data\\workspace\\labels\\compsite_labels.jp2 already exists.\nFailed to execute (CompositeBands).\n",
     "output_type": "error",
     "traceback": [
      "\u001b[1;31m---------------------------------------------------------------------------\u001b[0m",
      "\u001b[1;31mExecuteError\u001b[0m                              Traceback (most recent call last)",
      "\u001b[1;32m<ipython-input-101-5761a54bd621>\u001b[0m in \u001b[0;36m<module>\u001b[1;34m()\u001b[0m\n\u001b[1;32m----> 1\u001b[1;33m \u001b[0mall_labels\u001b[0m \u001b[1;33m=\u001b[0m \u001b[0marcpy\u001b[0m\u001b[1;33m.\u001b[0m\u001b[0mCompositeBands_management\u001b[0m\u001b[1;33m(\u001b[0m\u001b[0min_rasters\u001b[0m\u001b[1;33m=\u001b[0m\u001b[0mlist\u001b[0m\u001b[1;33m(\u001b[0m\u001b[0mlabel_layers\u001b[0m\u001b[1;33m.\u001b[0m\u001b[0mvalues\u001b[0m\u001b[1;33m(\u001b[0m\u001b[1;33m)\u001b[0m\u001b[1;33m)\u001b[0m\u001b[1;33m,\u001b[0m \u001b[0mout_raster\u001b[0m\u001b[1;33m=\u001b[0m\u001b[1;34m'compsite_labels.jp2'\u001b[0m\u001b[1;33m)\u001b[0m\u001b[1;33m\u001b[0m\u001b[0m\n\u001b[0m",
      "\u001b[1;32mC:\\Program Files\\ArcGIS\\Pro\\Resources\\ArcPy\\arcpy\\management.py\u001b[0m in \u001b[0;36mCompositeBands\u001b[1;34m(in_rasters, out_raster)\u001b[0m\n\u001b[0;32m  14694\u001b[0m         \u001b[1;32mreturn\u001b[0m \u001b[0mretval\u001b[0m\u001b[1;33m\u001b[0m\u001b[0m\n\u001b[0;32m  14695\u001b[0m     \u001b[1;32mexcept\u001b[0m \u001b[0mException\u001b[0m \u001b[1;32mas\u001b[0m \u001b[0me\u001b[0m\u001b[1;33m:\u001b[0m\u001b[1;33m\u001b[0m\u001b[0m\n\u001b[1;32m> 14696\u001b[1;33m         \u001b[1;32mraise\u001b[0m \u001b[0me\u001b[0m\u001b[1;33m\u001b[0m\u001b[0m\n\u001b[0m\u001b[0;32m  14697\u001b[0m \u001b[1;33m\u001b[0m\u001b[0m\n\u001b[0;32m  14698\u001b[0m \u001b[1;33m@\u001b[0m\u001b[0mgptooldoc\u001b[0m\u001b[1;33m(\u001b[0m\u001b[1;34m'ComputePansharpenWeights_management'\u001b[0m\u001b[1;33m,\u001b[0m \u001b[1;32mNone\u001b[0m\u001b[1;33m)\u001b[0m\u001b[1;33m\u001b[0m\u001b[0m\n",
      "\u001b[1;32mC:\\Program Files\\ArcGIS\\Pro\\Resources\\ArcPy\\arcpy\\management.py\u001b[0m in \u001b[0;36mCompositeBands\u001b[1;34m(in_rasters, out_raster)\u001b[0m\n\u001b[0;32m  14691\u001b[0m     \u001b[1;32mfrom\u001b[0m \u001b[0marcpy\u001b[0m\u001b[1;33m.\u001b[0m\u001b[0marcobjects\u001b[0m\u001b[1;33m.\u001b[0m\u001b[0marcobjectconversion\u001b[0m \u001b[1;32mimport\u001b[0m \u001b[0mconvertArcObjectToPythonObject\u001b[0m\u001b[1;33m\u001b[0m\u001b[0m\n\u001b[0;32m  14692\u001b[0m     \u001b[1;32mtry\u001b[0m\u001b[1;33m:\u001b[0m\u001b[1;33m\u001b[0m\u001b[0m\n\u001b[1;32m> 14693\u001b[1;33m         \u001b[0mretval\u001b[0m \u001b[1;33m=\u001b[0m \u001b[0mconvertArcObjectToPythonObject\u001b[0m\u001b[1;33m(\u001b[0m\u001b[0mgp\u001b[0m\u001b[1;33m.\u001b[0m\u001b[0mCompositeBands_management\u001b[0m\u001b[1;33m(\u001b[0m\u001b[1;33m*\u001b[0m\u001b[0mgp_fixargs\u001b[0m\u001b[1;33m(\u001b[0m\u001b[1;33m(\u001b[0m\u001b[0min_rasters\u001b[0m\u001b[1;33m,\u001b[0m \u001b[0mout_raster\u001b[0m\u001b[1;33m)\u001b[0m\u001b[1;33m,\u001b[0m \u001b[1;32mTrue\u001b[0m\u001b[1;33m)\u001b[0m\u001b[1;33m)\u001b[0m\u001b[1;33m)\u001b[0m\u001b[1;33m\u001b[0m\u001b[0m\n\u001b[0m\u001b[0;32m  14694\u001b[0m         \u001b[1;32mreturn\u001b[0m \u001b[0mretval\u001b[0m\u001b[1;33m\u001b[0m\u001b[0m\n\u001b[0;32m  14695\u001b[0m     \u001b[1;32mexcept\u001b[0m \u001b[0mException\u001b[0m \u001b[1;32mas\u001b[0m \u001b[0me\u001b[0m\u001b[1;33m:\u001b[0m\u001b[1;33m\u001b[0m\u001b[0m\n",
      "\u001b[1;32mC:\\Program Files\\ArcGIS\\Pro\\Resources\\ArcPy\\arcpy\\geoprocessing\\_base.py\u001b[0m in \u001b[0;36m<lambda>\u001b[1;34m(*args)\u001b[0m\n\u001b[0;32m    504\u001b[0m         \u001b[0mval\u001b[0m \u001b[1;33m=\u001b[0m \u001b[0mgetattr\u001b[0m\u001b[1;33m(\u001b[0m\u001b[0mself\u001b[0m\u001b[1;33m.\u001b[0m\u001b[0m_gp\u001b[0m\u001b[1;33m,\u001b[0m \u001b[0mattr\u001b[0m\u001b[1;33m)\u001b[0m\u001b[1;33m\u001b[0m\u001b[0m\n\u001b[0;32m    505\u001b[0m         \u001b[1;32mif\u001b[0m \u001b[0mcallable\u001b[0m\u001b[1;33m(\u001b[0m\u001b[0mval\u001b[0m\u001b[1;33m)\u001b[0m\u001b[1;33m:\u001b[0m\u001b[1;33m\u001b[0m\u001b[0m\n\u001b[1;32m--> 506\u001b[1;33m             \u001b[1;32mreturn\u001b[0m \u001b[1;32mlambda\u001b[0m \u001b[1;33m*\u001b[0m\u001b[0margs\u001b[0m\u001b[1;33m:\u001b[0m \u001b[0mval\u001b[0m\u001b[1;33m(\u001b[0m\u001b[1;33m*\u001b[0m\u001b[0mgp_fixargs\u001b[0m\u001b[1;33m(\u001b[0m\u001b[0margs\u001b[0m\u001b[1;33m,\u001b[0m \u001b[1;32mTrue\u001b[0m\u001b[1;33m)\u001b[0m\u001b[1;33m)\u001b[0m\u001b[1;33m\u001b[0m\u001b[0m\n\u001b[0m\u001b[0;32m    507\u001b[0m         \u001b[1;32melse\u001b[0m\u001b[1;33m:\u001b[0m\u001b[1;33m\u001b[0m\u001b[0m\n\u001b[0;32m    508\u001b[0m             \u001b[1;32mreturn\u001b[0m \u001b[0mconvertArcObjectToPythonObject\u001b[0m\u001b[1;33m(\u001b[0m\u001b[0mval\u001b[0m\u001b[1;33m)\u001b[0m\u001b[1;33m\u001b[0m\u001b[0m\n",
      "\u001b[1;31mExecuteError\u001b[0m: Failed to execute. Parameters are not valid.\nERROR 000725: Output Raster: Dataset C:\\Users\\yuch\\Downloads\\thesis\\data\\block1\\raw_data\\workspace\\labels\\compsite_labels.jp2 already exists.\nFailed to execute (CompositeBands).\n"
     ]
    }
   ],
   "source": [
    "arcpy.CompositeBands_management(in_rasters=list(label_layers.values()), out_raster='compsite_labels.jp2')"
   ]
  },
  {
   "cell_type": "markdown",
   "metadata": {},
   "source": [
    "#### layer number and rock type"
   ]
  },
  {
   "cell_type": "markdown",
   "metadata": {},
   "source": [
    "| Layer | Rock |\n",
    "|-------|------|\n",
    "| 0     | Vegetation|\n",
    "| 1     | Unkown Rocks|\n",
    "| 2     | Carbonate_sediment|\n",
    "| 3     | Dolerite|\n",
    "| 4     | Feldspathic_sediment|\n",
    "| 5     | Felsic_volcanic|\n",
    "| 6     | Gneiss|\n",
    "| 7     | Granite|\n",
    "| 8     | Mafic_volcanic|\n",
    "| 9     | Quartz_sediment|"
   ]
  },
  {
   "cell_type": "markdown",
   "metadata": {},
   "source": [
    "## Export training data X, Y with tile of 256 x 256"
   ]
  },
  {
   "cell_type": "markdown",
   "metadata": {},
   "source": [
    "#### split X into tiles"
   ]
  },
  {
   "cell_type": "code",
   "execution_count": 3,
   "metadata": {},
   "outputs": [
    {
     "data": {
      "text/plain": [
       "<geoprocessing server result object at 0x24ca55f0440>"
      ]
     },
     "execution_count": 3,
     "metadata": {},
     "output_type": "execute_result"
    }
   ],
   "source": [
    "inRaster = \"C:/Users/yuch/Downloads/thesis/DL-RockClassification/data/block1/raw_data/workspace/sent_geo.tif\"\n",
    "out_folder = \"C:/Users/yuch/Downloads/thesis/DL-RockClassification/data/block1/images\"\n",
    "in_training = \"#\"\n",
    "image_chip_format = \"TIFF\"\n",
    "tile_size_x = \"256\"\n",
    "tile_size_y = \"256\"\n",
    "output_nofeature_tiles=\"ONLY_TILES_WITH_FEATURES\"\n",
    "metadata_format=\"KITTI_rectangles\"\n",
    "# Execute \n",
    "arcpy.ia.ExportTrainingDataForDeepLearning(inRaster, out_folder, \n",
    "                                           metadata_format=metadata_format)"
   ]
  },
  {
   "cell_type": "markdown",
   "metadata": {},
   "source": [
    "#### split Y into tiles"
   ]
  },
  {
   "cell_type": "code",
   "execution_count": 64,
   "metadata": {},
   "outputs": [
    {
     "data": {
      "text/plain": [
       "<geoprocessing server result object at 0x2891505ead0>"
      ]
     },
     "execution_count": 64,
     "metadata": {},
     "output_type": "execute_result"
    }
   ],
   "source": [
    "inRaster = \"C:/Users/yuch/Downloads/thesis/data/block1/raw_data/workspace/labels/compsite_labels.jp2\"\n",
    "out_folder = \"C:/Users/yuch/Downloads/thesis/data/block1/labels\"\n",
    "in_training = \"#\"\n",
    "image_chip_format = \"TIFF\"\n",
    "tile_size_x = \"256\"\n",
    "tile_size_y = \"256\"\n",
    "output_nofeature_tiles=\"ONLY_TILES_WITH_FEATURES\"\n",
    "metadata_format=\"KITTI_rectangles\"\n",
    "arcpy.ia.ExportTrainingDataForDeepLearning(inRaster, out_folder, \n",
    "                                           metadata_format=metadata_format)"
   ]
  },
  {
   "cell_type": "code",
   "execution_count": 97,
   "metadata": {
    "collapsed": true
   },
   "outputs": [],
   "source": [
    "idx = '000000008'\n",
    "img = arcpy.RasterToNumPyArray(arcpy.sa.Raster('C:/Users/yuch/Downloads/thesis/data/block1/images/images/{0}.tif'.format(idx)))\n",
    "lbl = arcpy.RasterToNumPyArray(arcpy.sa.Raster('C:/Users/yuch/Downloads/thesis/data/block1/labels/images/{0}.tif'.format(idx)))"
   ]
  },
  {
   "cell_type": "code",
   "execution_count": 98,
   "metadata": {},
   "outputs": [
    {
     "data": {
      "text/plain": [
       "<matplotlib.image.AxesImage at 0x289387e1f60>"
      ]
     },
     "execution_count": 98,
     "metadata": {},
     "output_type": "execute_result"
    },
    {
     "data": {
      "image/png": "[encoded data removed]",
      "text/plain": [
       "<matplotlib.figure.Figure at 0x28938032710>"
      ]
     },
     "metadata": {},
     "output_type": "display_data"
    }
   ],
   "source": [
    "plt.imshow(np.transpose(img, [1,2,0])[:,:,::-1][:,:,:3]/10000.)"
   ]
  },
  {
   "cell_type": "code",
   "execution_count": 100,
   "metadata": {},
   "outputs": [
    {
     "data": {
      "text/plain": [
       "<matplotlib.image.AxesImage at 0x28938406d30>"
      ]
     },
     "execution_count": 100,
     "metadata": {},
     "output_type": "execute_result"
    },
    {
     "data": {
      "image/png": "[encoded data removed]",
      "text/plain": [
       "<matplotlib.figure.Figure at 0x289383a12e8>"
      ]
     },
     "metadata": {},
     "output_type": "display_data"
    }
   ],
   "source": [
    "plt.imshow(lbl[6,:,:])"
   ]
  }
 ],
 "metadata": {
  "kernelspec": {
   "display_name": "Python 3",
   "language": "python",
   "name": "python3"
  },
  "language_info": {
   "codemirror_mode": {
    "name": "ipython",
    "version": 3
   },
   "file_extension": ".py",
   "mimetype": "text/x-python",
   "name": "python",
   "nbconvert_exporter": "python",
   "pygments_lexer": "ipython3",
   "version": "3.6.2"
  }
 },
 "nbformat": 4,
 "nbformat_minor": 2
}
