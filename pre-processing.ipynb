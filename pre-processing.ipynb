{
 "cells": [
  {
   "cell_type": "markdown",
   "metadata": {},
   "source": [
    "# Data preprocessing\n",
    "it contains two large modules:\n",
    "process X and process Y"
   ]
  },
  {
   "cell_type": "code",
   "execution_count": 1,
   "metadata": {
    "collapsed": true
   },
   "outputs": [],
   "source": [
    "import arcpy\n",
    "import numpy as np\n",
    "import os, glob\n",
    "import matplotlib.pyplot as plt\n",
    "%matplotlib inline"
   ]
  },
  {
   "cell_type": "code",
   "execution_count": 2,
   "metadata": {},
   "outputs": [
    {
     "data": {
      "text/plain": [
       "'Available'"
      ]
     },
     "execution_count": 2,
     "metadata": {},
     "output_type": "execute_result"
    }
   ],
   "source": [
    "arcpy.CheckExtension('ImageAnalyst')"
   ]
  },
  {
   "cell_type": "code",
   "execution_count": 3,
   "metadata": {
    "collapsed": true
   },
   "outputs": [],
   "source": [
    "arcpy.env.workspace = r'C:\\Users\\yuch\\Downloads\\thesis\\DL-RockClassification\\data\\block1\\raw_data\\workspace'"
   ]
  },
  {
   "cell_type": "markdown",
   "metadata": {},
   "source": [
    "## process X\n",
    "### X from sentinal 2 L2A data\n",
    "#### check bands and resolutions, resample all bands to 10m\n",
    "resolution 10m: band2(blue), band3(green), band4(red), band8(nir)<br>\n",
    "need to be resampled to R10m: band5, band6, band7, band8A, band11, band12<br>\n",
    "band1, band9, band10 are useless, only for correction\n",
    "so the total num of bands is 10"
   ]
  },
  {
   "cell_type": "code",
   "execution_count": null,
   "metadata": {
    "collapsed": true
   },
   "outputs": [],
   "source": [
    "sent_path = r'C:\\Users\\yuch\\Downloads\\thesis\\data\\block1\\raw_data\\S2B_MSIL2A_20180403T005709_N0206_R002_T54KUB_20180403T023306.SAFE\\GRANULE\\L2A_T54KUB_A005605_20180403T005704\\IMG_DATA'"
   ]
  },
  {
   "cell_type": "code",
   "execution_count": 5,
   "metadata": {
    "collapsed": true
   },
   "outputs": [],
   "source": [
    "resample_bands = ['B05', 'B06', 'B07', 'B8A', 'B11', 'B12']"
   ]
  },
  {
   "cell_type": "code",
   "execution_count": 26,
   "metadata": {
    "collapsed": true
   },
   "outputs": [],
   "source": [
    "# do the resample\n",
    "resolution = \"10 10\"\n",
    "for band in resample_bands:\n",
    "    inpath = glob.glob(topDir+'/R20m/*_{0}_20m.jp2'.format(band))[0]\n",
    "    outpath = topDir+'/R10m/T54KUB_20180403T005709_{0}_10m.jp2'.format(band)\n",
    "    arcpy.Resample_management(inpath, outpath, resolution, \"NEAREST\")"
   ]
  },
  {
   "cell_type": "code",
   "execution_count": 106,
   "metadata": {
    "collapsed": true
   },
   "outputs": [],
   "source": [
    "# resample of other data"
   ]
  },
  {
   "cell_type": "code",
   "execution_count": 5,
   "metadata": {
    "collapsed": true
   },
   "outputs": [],
   "source": [
    "inbands = ';'.join(sorted(glob.glob(topDir+'/R10m/*_B*_10m.jp2')))"
   ]
  },
  {
   "cell_type": "code",
   "execution_count": null,
   "metadata": {
    "collapsed": true
   },
   "outputs": [],
   "source": [
    "# the output multiband raster will be stored in this workspace\n",
    "arcpy.CompositeBands_management(in_rasters=inbands, out_raster='multibands.jp2')"
   ]
  },
  {
   "cell_type": "markdown",
   "metadata": {},
   "source": [
    "#### combine with geophysical data"
   ]
  },
  {
   "cell_type": "code",
   "execution_count": 8,
   "metadata": {
    "collapsed": true
   },
   "outputs": [],
   "source": [
    "geo_path = 'C:/Users/yuch/Downloads/thesis/DL-RockClassification/data/block1/raw_data/workspace/geophysical'"
   ]
  },
  {
   "cell_type": "code",
   "execution_count": 10,
   "metadata": {
    "collapsed": true
   },
   "outputs": [],
   "source": [
    "geo = arcpy.sa.Raster(geo_path+'/tmi.tif')"
   ]
  },
  {
   "cell_type": "code",
   "execution_count": 12,
   "metadata": {
    "collapsed": true
   },
   "outputs": [],
   "source": [
    "geo = arcpy.sa.Raster(r'D:\\Data\\Townsville\\Mount_Isa_data\\magnetics\\MagGrids_LL\\georgina_tmi.ers')"
   ]
  },
  {
   "cell_type": "markdown",
   "metadata": {},
   "source": [
    "#### rescale the bands into 0,1"
   ]
  },
  {
   "cell_type": "code",
   "execution_count": 2,
   "metadata": {
    "collapsed": true
   },
   "outputs": [],
   "source": [
    "raster = arcpy.Raster('./data/block1/raw_data/workspace/sent_geo.tif')"
   ]
  },
  {
   "cell_type": "code",
   "execution_count": 5,
   "metadata": {},
   "outputs": [],
   "source": [
    "raster_num = arcpy.RasterToNumPyArray(raster)"
   ]
  },
  {
   "cell_type": "code",
   "execution_count": 9,
   "metadata": {},
   "outputs": [],
   "source": [
    "for i in range(10):\n",
    "    raster_num[i,:,:] = raster_num[i,:,:]/10000."
   ]
  },
  {
   "cell_type": "code",
   "execution_count": 12,
   "metadata": {},
   "outputs": [],
   "source": [
    "for i in range(10, 23):\n",
    "    raster_num[i,:,:] = (raster_num[i,:,:] - raster_num[i,:,:].min()) / (raster_num[i,:,:].max() - raster_num[i,:,:].min())"
   ]
  },
  {
   "cell_type": "code",
   "execution_count": 17,
   "metadata": {
    "collapsed": true
   },
   "outputs": [],
   "source": [
    "new_raster = arcpy.NumPyArrayToRaster(\n",
    "    in_array=raster_num,\n",
    "    lower_left_corner=raster.extent.lowerLeft,\n",
    "    x_cell_size=raster.meanCellWidth,\n",
    "    y_cell_size=raster.meanCellHeight,\n",
    ")\n",
    "\n",
    "new_raster.save('./data/block1/raw_data/workspace/sent_geo_norm.tif')"
   ]
  },
  {
   "cell_type": "code",
   "execution_count": 22,
   "metadata": {},
   "outputs": [],
   "source": [
    "np.save('./data/block1/raw_data/workspace/sent_geo_norm', raster_num)"
   ]
  },
  {
   "cell_type": "markdown",
   "metadata": {},
   "source": [
    "#### composite all useful bands into a multiband raster\n",
    "| band | meaning |\n",
    "|-------|------|\n",
    "| 0     | Blue |\n",
    "| 1     | Green |\n",
    "| 2     | Red |\n",
    "| 3     | VRE |\n",
    "| 4     | VRE |\n",
    "| 5     | VRE |\n",
    "| 6     | NIR |\n",
    "| 7     | SWIR |\n",
    "| 8     | SWIR |\n",
    "| 9     | VRE |\n",
    "| 10    | K |\n",
    "| 11    | Kpcent |\n",
    "| 12    | TH |\n",
    "| 13    | U |\n",
    "| 14    | U2 |\n",
    "| 15    | magnetic |\n",
    "| 16    | U over K |\n",
    "| 17    | U over TH |\n",
    "| 18    | K over TH |\n",
    "| 19    | K over U |\n",
    "| 20    | U2 over TH |\n",
    "| 21    | TH over U |\n",
    "| 22    | TH over K |"
   ]
  },
  {
   "cell_type": "markdown",
   "metadata": {},
   "source": [
    "#### calculate NDVI"
   ]
  },
  {
   "cell_type": "code",
   "execution_count": 3,
   "metadata": {
    "collapsed": true
   },
   "outputs": [],
   "source": [
    "work_dir = r'C:\\Users\\yuch\\Downloads\\thesis\\data\\block1\\raw_data\\workspace'"
   ]
  },
  {
   "cell_type": "code",
   "execution_count": 17,
   "metadata": {
    "collapsed": true
   },
   "outputs": [],
   "source": [
    "def calc_NDVI(raster, red_band, nir_band):\n",
    "    \"\"\"\n",
    "    input: \n",
    "            raster: string, path to raster\n",
    "            red_band: int\n",
    "            nir_band: int\n",
    "    output:\n",
    "            ndvi: raster, ndvi\n",
    "    \"\"\"\n",
    "    nir = arcpy.sa.Raster(raster+'/Band_{0}'.format(nir_band))\n",
    "    red = arcpy.sa.Raster(raster+'/Band_{0}'.format(red_band))\n",
    "    ndvi = arcpy.sa.Divide(arcpy.sa.Float(nir - red),\n",
    "                           arcpy.sa.Float(nir + red))\n",
    "    return ndvi"
   ]
  },
  {
   "cell_type": "code",
   "execution_count": 18,
   "metadata": {
    "collapsed": true
   },
   "outputs": [],
   "source": [
    "ndvi = calc_NDVI(work_dir+'/clip_multibands.jp2', \n",
    "                 3, 7)"
   ]
  },
  {
   "cell_type": "code",
   "execution_count": 15,
   "metadata": {
    "collapsed": true,
    "scrolled": true
   },
   "outputs": [],
   "source": [
    "ndvi.save(work_dir+'/ndvi.tif')"
   ]
  },
  {
   "cell_type": "code",
   "execution_count": 20,
   "metadata": {
    "collapsed": true
   },
   "outputs": [],
   "source": [
    "th = 0.3"
   ]
  },
  {
   "cell_type": "code",
   "execution_count": 27,
   "metadata": {
    "collapsed": true
   },
   "outputs": [],
   "source": [
    "rocks = arcpy.sa.Con(ndvi, 1, 0, 'VALUE <= {0}'.format(th))\n",
    "rocks_mask = arcpy.sa.Con(ndvi, 1, where_clause='VALUE <= {0}'.format(th))"
   ]
  },
  {
   "cell_type": "code",
   "execution_count": 21,
   "metadata": {
    "collapsed": true
   },
   "outputs": [],
   "source": [
    "veges = arcpy.sa.Con(ndvi, 1, 0, 'VALUE > {0}'.format(th))"
   ]
  },
  {
   "cell_type": "code",
   "execution_count": 22,
   "metadata": {
    "collapsed": true
   },
   "outputs": [],
   "source": [
    "veges.save(work_dir+'/veges.tif')"
   ]
  },
  {
   "cell_type": "code",
   "execution_count": 25,
   "metadata": {
    "collapsed": true
   },
   "outputs": [],
   "source": [
    "rocks.save(work_dir+'/rocks.tif')"
   ]
  },
  {
   "cell_type": "code",
   "execution_count": 28,
   "metadata": {
    "collapsed": true
   },
   "outputs": [],
   "source": [
    "rocks_mask.save(work_dir+'/rocks_mask.tif')"
   ]
  },
  {
   "cell_type": "markdown",
   "metadata": {},
   "source": [
    "#### deal with Y"
   ]
  },
  {
   "cell_type": "code",
   "execution_count": 24,
   "metadata": {
    "collapsed": true
   },
   "outputs": [],
   "source": [
    "labels = ['T', 'Breccia', 'Carbonate_sediment', 'Dolerite',\n",
    "          'Feldspathic_sediment', 'Felsic_volcanic', 'Gneiss', 'Granite',\n",
    "          'Graphite_sediment', 'Mafic_volcanic', 'Quartz_sediment']"
   ]
  },
  {
   "cell_type": "code",
   "execution_count": 6,
   "metadata": {
    "collapsed": true
   },
   "outputs": [],
   "source": [
    "label_dir = r'C:\\Users\\yuch\\Downloads\\thesis\\data\\labels_splits'"
   ]
  },
  {
   "cell_type": "code",
   "execution_count": 9,
   "metadata": {
    "collapsed": true
   },
   "outputs": [],
   "source": [
    "work_dir = r'C:\\Users\\yuch\\Downloads\\thesis\\data\\block1\\raw_data\\workspace'"
   ]
  },
  {
   "cell_type": "code",
   "execution_count": 7,
   "metadata": {
    "collapsed": true
   },
   "outputs": [],
   "source": [
    "arcpy.env.workspace = r'C:\\Users\\yuch\\Downloads\\thesis\\data\\block1\\raw_data\\workspace\\labels'"
   ]
  },
  {
   "cell_type": "code",
   "execution_count": 28,
   "metadata": {
    "collapsed": true
   },
   "outputs": [],
   "source": [
    "rocks = arcpy.sa.Raster(work_dir+'/rocks_mask.tif')"
   ]
  },
  {
   "cell_type": "code",
   "execution_count": 36,
   "metadata": {
    "scrolled": false
   },
   "outputs": [
    {
     "name": "stdout",
     "output_type": "stream",
     "text": [
      "extracting T\n",
      "extracting Breccia\n",
      "Breccia is not in the current block\n",
      "extracting Carbonate_sediment\n",
      "extracting Dolerite\n",
      "extracting Feldspathic_sediment\n",
      "extracting Felsic_volcanic\n",
      "extracting Gneiss\n",
      "extracting Granite\n",
      "extracting Graphite_sediment\n",
      "Graphite_sediment is not in the current block\n",
      "extracting Mafic_volcanic\n",
      "extracting Quartz_sediment\n"
     ]
    }
   ],
   "source": [
    "label_layers = {'Vegetations': veges}\n",
    "for label_name in labels:\n",
    "    try:\n",
    "        print('extracting {0}'.format(label_name))\n",
    "        label_layers.update({label_name: arcpy.sa.ExtractByMask(rocks, \n",
    "                                              label_dir+'/{0}.shp'.format(label_name))})\n",
    "    except :\n",
    "        print('{0} is not in the current block'.format(label_name))"
   ]
  },
  {
   "cell_type": "markdown",
   "metadata": {},
   "source": [
    "#### composite all labels"
   ]
  },
  {
   "cell_type": "code",
   "execution_count": null,
   "metadata": {
    "collapsed": true
   },
   "outputs": [],
   "source": [
    "arcpy.CompositeBands_management(in_rasters=list(label_layers.values()), out_raster='compsite_labels.jp2')"
   ]
  },
  {
   "cell_type": "markdown",
   "metadata": {},
   "source": [
    "#### layer number and rock type\n",
    "| Layer | Rock |\n",
    "|-------|------|\n",
    "| 0     | Vegetation|\n",
    "| 1     | Unkown Rocks|\n",
    "| 2     | Carbonate_sediment|\n",
    "| 3     | Dolerite|\n",
    "| 4     | Feldspathic_sediment|\n",
    "| 5     | Felsic_volcanic|\n",
    "| 6     | Gneiss|\n",
    "| 7     | Granite|\n",
    "| 8     | Mafic_volcanic|\n",
    "| 9     | Quartz_sediment|"
   ]
  },
  {
   "cell_type": "markdown",
   "metadata": {},
   "source": [
    "## Export training data X, Y with tile of 256 x 256"
   ]
  },
  {
   "cell_type": "markdown",
   "metadata": {},
   "source": [
    "#### split X into tiles"
   ]
  },
  {
   "cell_type": "code",
   "execution_count": 23,
   "metadata": {},
   "outputs": [
    {
     "data": {
      "text/plain": [
       "(23, 10980, 7137)"
      ]
     },
     "execution_count": 23,
     "metadata": {},
     "output_type": "execute_result"
    }
   ],
   "source": [
    "# raster_num = np.load('./data/block1/raw_data/workspace/sent_geo_norm.npy')\n",
    "raster_num.shape"
   ]
  },
  {
   "cell_type": "code",
   "execution_count": 49,
   "metadata": {
    "collapsed": true
   },
   "outputs": [],
   "source": [
    "def split2Tiles(path, arr, x_size=256, y_size=256, suffix='block1'):\n",
    "    xx, yy = arr.shape[1], arr.shape[2]\n",
    "    x_num = int(xx/x_size)\n",
    "    y_num = int(yy/y_size)\n",
    "    print('split into {0} tiles'.format(x_num*y_num))\n",
    "    count = 0\n",
    "    for i in range(x_num):\n",
    "        for j in range(y_num):\n",
    "            tmp = arr[:, x_size*i: x_size*(i+1), y_size*j: y_size*(j+1)]\n",
    "            np.save(path+'{0}_{1}'.format(suffix, count), tmp)\n",
    "            count += 1"
   ]
  },
  {
   "cell_type": "code",
   "execution_count": 26,
   "metadata": {
    "collapsed": true
   },
   "outputs": [],
   "source": [
    "split2Tiles('./data/X/', raster_num)"
   ]
  },
  {
   "cell_type": "code",
   "execution_count": 18,
   "metadata": {},
   "outputs": [
    {
     "data": {
      "text/plain": [
       "<Result 'C:\\\\Users\\\\yuch\\\\Downloads\\\\thesis\\\\DL-RockClassification\\\\data\\\\block1\\\\raw_data\\\\workspace\\\\sent_geo_clip.tif'>"
      ]
     },
     "execution_count": 18,
     "metadata": {},
     "output_type": "execute_result"
    }
   ],
   "source": [
    "arcpy.Clip_management(\"C:/Users/yuch/Downloads/thesis/DL-RockClassification/data/block1/raw_data/workspace/sent_geo.tif\", \n",
    "                      '302250 7590220 371370 7697740',\n",
    "                      \"C:/Users/yuch/Downloads/thesis/DL-RockClassification/data/block1/raw_data/workspace/sent_geo_clip.tif\", \n",
    "                      \"#\", \"#\", \"NONE\", \"NO_MAINTAIN_EXTENT\")"
   ]
  },
  {
   "cell_type": "code",
   "execution_count": 5,
   "metadata": {},
   "outputs": [
    {
     "data": {
      "text/plain": [
       "<geoprocessing server result object at 0x243c30d8b20>"
      ]
     },
     "execution_count": 5,
     "metadata": {},
     "output_type": "execute_result"
    }
   ],
   "source": [
    "inRaster = \"C:/Users/yuch/Downloads/thesis/DL-RockClassification/data/block1/raw_data/workspace/sent_geo_clip.tif\"\n",
    "out_folder = \"C:/Users/yuch/Downloads/thesis/DL-RockClassification/data/block1/images\"\n",
    "in_training = \"#\"\n",
    "image_chip_format = \"TIFF\"\n",
    "tile_size_x = \"256\"\n",
    "tile_size_y = \"256\"\n",
    "stride_x=\"256\"\n",
    "stride_y=\"256\"\n",
    "output_nofeature_tiles=\"ONLY_TILES_WITH_FEATURES\"\n",
    "metadata_format=\"KITTI_rectangles\"\n",
    "\n",
    "# Execute \n",
    "arcpy.ia.ExportTrainingDataForDeepLearning(inRaster, out_folder, in_training, \n",
    "                                 image_chip_format,tile_size_x, tile_size_y, \n",
    "                                 stride_x, stride_y,output_nofeature_tiles, \n",
    "                                 metadata_format)"
   ]
  },
  {
   "cell_type": "markdown",
   "metadata": {},
   "source": [
    "#### split Y into tiles"
   ]
  },
  {
   "cell_type": "code",
   "execution_count": 29,
   "metadata": {
    "collapsed": true
   },
   "outputs": [],
   "source": [
    "# raster_num = arcpy.RasterToNumPyArray(arcpy.Raster('./data/block1/raw_data/workspace/labels/compsite_labels.jp2'))\n",
    "# np.save('./data/block1/raw_data/workspace/labels/labels', raster_num)"
   ]
  },
  {
   "cell_type": "code",
   "execution_count": 30,
   "metadata": {},
   "outputs": [],
   "source": [
    "split2Tiles('./data/Y/', raster_num)"
   ]
  },
  {
   "cell_type": "code",
   "execution_count": 4,
   "metadata": {},
   "outputs": [
    {
     "data": {
      "text/plain": [
       "<Result 'C:\\\\Users\\\\yuch\\\\Downloads\\\\thesis\\\\DL-RockClassification\\\\data\\\\block1\\\\raw_data\\\\workspace\\\\labels\\\\compsite_labels_clip.jp2'>"
      ]
     },
     "execution_count": 4,
     "metadata": {},
     "output_type": "execute_result"
    }
   ],
   "source": [
    "arcpy.Clip_management(\"C:/Users/yuch/Downloads/thesis/DL-RockClassification/data/block1/raw_data/workspace/labels/compsite_labels.jp2\", \n",
    "                      '302250 7590220 371370 7697740',\n",
    "                      \"C:/Users/yuch/Downloads/thesis/DL-RockClassification/data/block1/raw_data/workspace/labels/compsite_labels_clip.jp2\", \n",
    "                      \"#\", \"#\", \"NONE\", \"NO_MAINTAIN_EXTENT\")"
   ]
  },
  {
   "cell_type": "code",
   "execution_count": 6,
   "metadata": {},
   "outputs": [
    {
     "data": {
      "text/plain": [
       "<geoprocessing server result object at 0x243c30d8ad0>"
      ]
     },
     "execution_count": 6,
     "metadata": {},
     "output_type": "execute_result"
    }
   ],
   "source": [
    "inRaster = \"C:/Users/yuch/Downloads/thesis/DL-RockClassification/data/block1/raw_data/workspace/labels/compsite_labels_clip.jp2\"\n",
    "out_folder = \"C:/Users/yuch/Downloads/thesis/DL-RockClassification/data/block1/labels\"\n",
    "in_training = \"#\"\n",
    "image_chip_format = \"TIFF\"\n",
    "tile_size_x = \"256\"\n",
    "tile_size_y = \"256\"\n",
    "stride_x=\"256\"\n",
    "stride_y=\"256\"\n",
    "output_nofeature_tiles=\"ONLY_TILES_WITH_FEATURES\"\n",
    "metadata_format=\"KITTI_rectangles\"\n",
    "\n",
    "# Execute \n",
    "arcpy.ia.ExportTrainingDataForDeepLearning(inRaster, out_folder, in_training, \n",
    "                                 image_chip_format,tile_size_x, tile_size_y, \n",
    "                                 stride_x, stride_y,output_nofeature_tiles, \n",
    "                                 metadata_format)"
   ]
  },
  {
   "cell_type": "code",
   "execution_count": 32,
   "metadata": {},
   "outputs": [],
   "source": [
    "idx = 8\n",
    "img = np.load('./data/X/block1_{0}.npy'.format(idx))\n",
    "lbl = np.load('./data/Y/block1_{0}.npy'.format(idx))"
   ]
  },
  {
   "cell_type": "code",
   "execution_count": 97,
   "metadata": {
    "collapsed": true
   },
   "outputs": [],
   "source": [
    "idx = '000000008'\n",
    "img = arcpy.RasterToNumPyArray(arcpy.sa.Raster('C:/Users/yuch/Downloads/thesis/data/block1/images/images/{0}.tif'.format(idx)))\n",
    "lbl = arcpy.RasterToNumPyArray(arcpy.sa.Raster('C:/Users/yuch/Downloads/thesis/data/block1/labels/images/{0}.tif'.format(idx)))"
   ]
  },
  {
   "cell_type": "code",
   "execution_count": 45,
   "metadata": {
    "scrolled": true
   },
   "outputs": [
    {
     "data": {
      "text/plain": [
       "<matplotlib.image.AxesImage at 0x19501927e48>"
      ]
     },
     "execution_count": 45,
     "metadata": {},
     "output_type": "execute_result"
    },
    {
     "data": {
      "image/png": "[encoded data removed]",
      "text/plain": [
       "<matplotlib.figure.Figure at 0x1950101ef98>"
      ]
     },
     "metadata": {},
     "output_type": "display_data"
    }
   ],
   "source": [
    "plt.imshow(np.transpose(img, [1,2,0])[:,:,:3])"
   ]
  },
  {
   "cell_type": "code",
   "execution_count": 48,
   "metadata": {},
   "outputs": [
    {
     "data": {
      "text/plain": [
       "<matplotlib.colorbar.Colorbar at 0x1950171b940>"
      ]
     },
     "execution_count": 48,
     "metadata": {},
     "output_type": "execute_result"
    },
    {
     "data": {
      "image/png": "[encoded data removed]",
      "text/plain": [
       "<matplotlib.figure.Figure at 0x195010d50f0>"
      ]
     },
     "metadata": {},
     "output_type": "display_data"
    }
   ],
   "source": [
    "plt.imshow(np.argmax(lbl, axis=0))\n",
    "plt.colorbar()"
   ]
  },
  {
   "cell_type": "code",
   "execution_count": null,
   "metadata": {
    "collapsed": true
   },
   "outputs": [],
   "source": []
  }
 ],
 "metadata": {
  "kernelspec": {
   "display_name": "Python 3",
   "language": "python",
   "name": "python3"
  },
  "language_info": {
   "codemirror_mode": {
    "name": "ipython",
    "version": 3
   },
   "file_extension": ".py",
   "mimetype": "text/x-python",
   "name": "python",
   "nbconvert_exporter": "python",
   "pygments_lexer": "ipython3",
   "version": "3.6.5"
  }
 },
 "nbformat": 4,
 "nbformat_minor": 2
}
