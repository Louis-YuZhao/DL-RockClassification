{
 "cells": [
  {
   "cell_type": "code",
   "execution_count": 1,
   "metadata": {
    "collapsed": true
   },
   "outputs": [],
   "source": [
    "import numpy as np\n",
    "from osgeo import gdal\n",
    "import matplotlib.pyplot as plt\n",
    "import glob\n",
    "import re"
   ]
  },
  {
   "cell_type": "code",
   "execution_count": 2,
   "metadata": {},
   "outputs": [
    {
     "name": "stderr",
     "output_type": "stream",
     "text": [
      "C:\\Users\\yuch\\Downloads\\anaconda3\\envs\\nz_convnet\\lib\\site-packages\\h5py\\__init__.py:36: FutureWarning: Conversion of the second argument of issubdtype from `float` to `np.floating` is deprecated. In future, it will be treated as `np.float64 == np.dtype(float).type`.\n",
      "  from ._conv import register_converters as _register_converters\n",
      "Using TensorFlow backend.\n"
     ]
    }
   ],
   "source": [
    "from sklearn.model_selection import train_test_split\n",
    "import tensorflow as tf\n",
    "import keras\n",
    "from keras.layers import Input, Dense, Activation, ZeroPadding2D, BatchNormalization, Flatten, Conv2D, Conv2DTranspose, Conv1D, Conv3D, Conv3DTranspose\n",
    "from keras.layers import AveragePooling2D, MaxPooling2D, Dropout, GlobalMaxPooling2D, GlobalAveragePooling2D, Lambda, AlphaDropout\n",
    "from keras.layers.advanced_activations import LeakyReLU\n",
    "from keras.models import load_model, Model\n",
    "# from keras.preprocessing.image import ImageDataGenerator\n",
    "from keras.layers.merge import add, concatenate\n",
    "from keras.callbacks import EarlyStopping, ModelCheckpoint, TensorBoard\n",
    "from keras import backend as K\n",
    "import os, random"
   ]
  },
  {
   "cell_type": "markdown",
   "metadata": {},
   "source": [
    "define of class Data, TrainValTensorboard, myModel"
   ]
  },
  {
   "cell_type": "code",
   "execution_count": 3,
   "metadata": {
    "collapsed": true
   },
   "outputs": [],
   "source": [
    "class Data:\n",
    "    \n",
    "    def __init__(self, path, num=1000, random=False):\n",
    "        \"\"\"\n",
    "        input:\n",
    "            path: path to the block\n",
    "            max_num: int, num of samples\n",
    "            random: bool, to load samples randomly or from 0 to num_max\n",
    "        \"\"\"\n",
    "        self.path_to_block = path\n",
    "        self.N = num\n",
    "        self.random = random\n",
    "        \n",
    "    def img_to_array(self, input_file, normalizer, dtype='float32'):\n",
    "        \"\"\"\n",
    "        convert a raster tile into numpy array\n",
    "        input:\n",
    "            input_file: string, path a raster(.tif)\n",
    "            normalizer: double, if input is labels with 0 or 1, it's 1.\n",
    "                                if input is sentinal data (reflectance), then it's 10000.\n",
    "            dtype: string, data type, default as 'float32'\n",
    "        return:\n",
    "            arr: numpy array, shape is [dim_y, dim_x, num_bands]\n",
    "        \"\"\"\n",
    "        file = gdal.Open(input_file)\n",
    "        bands = [np.array(file.GetRasterBand(i).ReadAsArray()).astype(dtype) / normalizer for i in range(1, file.RasterCount + 1)]\n",
    "        arr = np.stack(bands, axis=2)\n",
    "        return arr\n",
    "\n",
    "    def load_XY(self):\n",
    "        \"\"\"\n",
    "        function: load max_num of XY into lists\n",
    "        output: list of numpy arrays, X (images) and Y (labels)\n",
    "        \"\"\"\n",
    "        X_out = []\n",
    "        Y_out = []\n",
    "        X_path = sorted(glob.glob(self.path_to_block+\"images/images/*.tif\"))\n",
    "        Y_path = sorted(glob.glob(self.path_to_block+\"labels/images/*.tif\"))\n",
    "        if len(X_path) != len(Y_path):\n",
    "            raise ValueError('imgs and labels are not matched')\n",
    "        if self.random:\n",
    "            idx = np.random.randint(0, len(X_path), self.N)\n",
    "        else:\n",
    "            idx = range(self.N)\n",
    "\n",
    "        for i in idx:\n",
    "            X_out.append(self.img_to_array(X_path[i], 10000.))\n",
    "            Y_out.append(self.img_to_array(Y_path[i], 1.))\n",
    "        return X_out, Y_out\n",
    "        \n",
    "    def trn_tst_split(self, test_rate, random_seed):\n",
    "        \"\"\"\n",
    "        input:  test_rate, double, between 0 and 1,\n",
    "                random_seed, randomness to generate tst and trn data\n",
    "        output: lists of train and test datasets\n",
    "        \"\"\"\n",
    "        X, Y = self.load_XY()\n",
    "        X_trn, X_tst, Y_trn, Y_tst = train_test_split(X, Y, train_size=1-test_rate, test_size=test_rate, random_state=random_seed)\n",
    "        return np.asarray(X_trn), np.asarray(X_tst), np.asarray(Y_trn), np.asarray(Y_tst)\n",
    "    \n",
    "class TrainValTensorBoard(TensorBoard):\n",
    "    def __init__(self, log_dir='./logs', hist_freq=1, **kwargs):\n",
    "        # Make the original `TensorBoard` log to a subdirectory 'training'\n",
    "        training_log_dir = os.path.join(log_dir, 'training')\n",
    "        super(TrainValTensorBoard, self).__init__(training_log_dir, histogram_freq=hist_freq, **kwargs)\n",
    "\n",
    "        # Log the validation metrics to a separate subdirectory\n",
    "        self.val_log_dir = os.path.join(log_dir, 'validation')\n",
    "\n",
    "    def set_model(self, model):\n",
    "        # Setup writer for validation metrics\n",
    "        self.val_writer = tf.summary.FileWriter(self.val_log_dir)\n",
    "        super(TrainValTensorBoard, self).set_model(model)\n",
    "\n",
    "    def on_epoch_end(self, epoch, logs=None):\n",
    "        # Pop the validation logs and handle them separately with\n",
    "        # `self.val_writer`. Also rename the keys so that they can\n",
    "        # be plotted on the same figure with the training metrics\n",
    "        logs = logs or {}\n",
    "        val_logs = {k.replace('val_', ''): v for k, v in logs.items() if k.startswith('val_')}\n",
    "        for name, value in val_logs.items():\n",
    "            summary = tf.Summary()\n",
    "            summary_value = summary.value.add()\n",
    "            summary_value.simple_value = value.item()\n",
    "            summary_value.tag = name\n",
    "            self.val_writer.add_summary(summary, epoch)\n",
    "        self.val_writer.flush()\n",
    "\n",
    "        # Pass the remaining logs to `TensorBoard.on_epoch_end`\n",
    "        logs = {k: v for k, v in logs.items() if not k.startswith('val_')}\n",
    "        super(TrainValTensorBoard, self).on_epoch_end(epoch, logs)\n",
    "\n",
    "    def on_train_end(self, logs=None):\n",
    "        super(TrainValTensorBoard, self).on_train_end(logs)\n",
    "        self.val_writer.close()"
   ]
  },
  {
   "cell_type": "code",
   "execution_count": 4,
   "metadata": {
    "collapsed": true
   },
   "outputs": [],
   "source": [
    "class myModel:\n",
    "    \n",
    "    def __init__(self):\n",
    "        self.model = None\n",
    "        self.callbackList = None\n",
    "        self.model_type = None\n",
    "        self.init_epoch = 0\n",
    "        return\n",
    "        \n",
    "    def build_Conv1D(self, num_bands=9, dim_width=256, dim_height=256,\n",
    "                     num_filters=64, len_filter=1, num_labels=10):\n",
    "        self.model_type = 'Conv1D'\n",
    "        return\n",
    "    \n",
    "    def build_Conv3D(self):\n",
    "        self.model_type = 'Conv3D'\n",
    "        return\n",
    "\n",
    "    def build_Conv2D(self, num_bands=9, dim_width=256, dim_height=256, n_ch_list=[64, 64],\n",
    "                     num_labels=10, k_init='lecun_normal', activation='selu', use_tfboard=False):\n",
    "        \"\"\"\n",
    "        input:\n",
    "            num_bands, int, number of input channels\n",
    "            n_ch_list, list, int numbers for num of channels of each layer\n",
    "            num_labels, int, num of classes that each pixel will be assigned a prob, should be filters of last 'softmax' layer\n",
    "            k_init, string, define the way of initializing the weights\n",
    "            activation, string, define the activation function of intermediate layers\n",
    "        output:\n",
    "            keras model\n",
    "        \"\"\"\n",
    "\n",
    "        if K.image_data_format() == 'channels_first':\n",
    "            ch_axis = 1\n",
    "            input_shape = (num_bands, dim_width, dim_height)\n",
    "        elif K.image_data_format() == 'channels_last':\n",
    "            ch_axis = 3\n",
    "            input_shape = (dim_width, dim_height, num_bands)\n",
    "\n",
    "\n",
    "        inp = Input(input_shape)\n",
    "        encoder = inp\n",
    "        list_encoders = []\n",
    "\n",
    "    # summary image requires num of channels to be 1, 3 or 4\n",
    "    #     if use_tfboard:\n",
    "    #         tf.summary.image(name='input', tensor=inp)  \n",
    "\n",
    "        print('building Conv2D ...')\n",
    "        print(n_ch_list)\n",
    "        k_size = (3, 3)\n",
    "        # encoders\n",
    "        for l_idx, n_ch in enumerate(n_ch_list):\n",
    "            with K.name_scope('Encoder_block_{0}'.format(l_idx)):\n",
    "                encoder = Conv2D(filters=n_ch, kernel_size=k_size, activation=activation, padding='same',\n",
    "                                 kernel_initializer=k_init)(encoder)\n",
    "                encoder = AlphaDropout(0.1*l_idx, )(encoder)\n",
    "                encoder = Conv2D(filters=n_ch, kernel_size=k_size, dilation_rate=(2, 2),\n",
    "                                 activation=activation, padding='same', kernel_initializer=k_init)(encoder)\n",
    "                list_encoders.append(encoder)\n",
    "                # add maxpooling layer except the last layer\n",
    "                if l_idx < len(n_ch_list) - 1:\n",
    "                    encoder = MaxPooling2D(pool_size=(2,2))(encoder)\n",
    "                if use_tfboard:\n",
    "                    tf.summary.histogram('conv_encoder', encoder)\n",
    "        # decoders\n",
    "        decoder = encoder\n",
    "        dec_n_ch_list = n_ch_list[::-1][1:]\n",
    "        print(dec_n_ch_list)\n",
    "        for l_idx, n_ch in enumerate(dec_n_ch_list):\n",
    "            with K.name_scope('Decoder_block_{0}'.format(l_idx)):\n",
    "                l_idx_rev = len(n_ch_list) - 1 - l_idx\n",
    "                decoder = concatenate([decoder, list_encoders[l_idx_rev]], axis=ch_axis)\n",
    "                decoder = Conv2D(filters=n_ch, kernel_size=k_size, activation=activation, padding='same',\n",
    "                                 dilation_rate=(2, 2), kernel_initializer=k_init)(decoder)\n",
    "                decoder = AlphaDropout(0.1*l_idx, )(decoder)\n",
    "                decoder = Conv2D(filters=n_ch, kernel_size=k_size, activation=activation, padding='same',\n",
    "                                 kernel_initializer=k_init)(decoder)\n",
    "                decoder = Conv2DTranspose(filters=n_ch, kernel_size=k_size, strides=(2, 2), \n",
    "                                          activation=activation, padding='same', kernel_initializer=k_init)(decoder)\n",
    "\n",
    "        # output layer should be softmax\n",
    "        # instead of using Conv2DTranspose, Dense layer could also be tried\n",
    "        outp = Conv2DTranspose(filters=num_labels, kernel_size=k_size, activation='softmax',\n",
    "                               padding='same', kernel_initializer='glorot_normal')(decoder)\n",
    "\n",
    "        # summary image requires num of channels to be 1, 3 or 4\n",
    "    #         if use_tfboard:\n",
    "    #             tf.summary.image(name='output', tensor=outp)\n",
    "\n",
    "        self.model = Model(inputs=[inp], outputs=[outp])\n",
    "        \n",
    "        self.model_type = 'Conv2D'\n",
    "        return\n",
    "    \n",
    "    def compile_model(self, loss='categorical_crossentropy', lr=1e-3, verbose=True):\n",
    "        \"\"\"\n",
    "        input:\n",
    "                loss: string\n",
    "                lr: double\n",
    "                verbose: bool\n",
    "        \"\"\"\n",
    "        if self.model_type == None:\n",
    "            raise ValueError('model is not built yet, please build 1D, 2D or 3D convnet model')\n",
    "            \n",
    "        print('compiling model ...')\n",
    "        \n",
    "        # specify loss and optimizer\n",
    "        loss = 'categorical_crossentropy'\n",
    "        adam = keras.optimizers.adam(lr=lr)\n",
    "\n",
    "        # build the whole computational graph with model, loss and optimizer\n",
    "        self.model.compile(loss=loss, optimizer=adam, metrics=['accuracy'])\n",
    "\n",
    "        # print parameters of each layer\n",
    "        if verbose:\n",
    "            print(self.model.summary())\n",
    "        return\n",
    "    \n",
    "    def build_callbackList(self, log_dir='./logs'):\n",
    "        \n",
    "        if self.model_type == None:\n",
    "            raise ValueError('model is not built yet, please build 1D, 2D or 3D convnet model')\n",
    "        else:\n",
    "            path = './{0}'.format(self.model_type)\n",
    "            \n",
    "        # Tensorboard\n",
    "        tensorboard = TrainValTensorBoard(log_dir=log_dir)\n",
    "\n",
    "        # Model Checkpoints\n",
    "        if not os.path.exists(path):\n",
    "            os.makedirs(path)\n",
    "        filepath=path+'/weights-{epoch:02d}-{val_acc:.2f}.hdf5'\n",
    "        checkpoint = ModelCheckpoint(filepath, monitor='val_acc', verbose=1, save_best_only=True, save_weights_only=True, mode='max')\n",
    "\n",
    "        # Bring all the callbacks together into a python list\n",
    "        self.callbackList = [tensorboard, checkpoint]\n",
    "        return\n",
    "        \n",
    "    def load_checkpoint(self):\n",
    "\n",
    "        if self.model_type == None:\n",
    "            raise ValueError('model is not built yet, please build 1D, 2D or 3D convnet model')\n",
    "        else:\n",
    "            path = './{0}'.format(self.model_type)\n",
    "        try:\n",
    "            checkfile = sorted(glob.glob(path+\"/weights-*-*.hdf5\"))[-1]\n",
    "            self.model.load_weights(checkfile)\n",
    "            self.init_epoch = int(re.search(r\"weights-(\\d*)-\", checkfile).group(1))\n",
    "            print(\"{0} weights loaded, resuming from epoch {1}\".format(self.model_type, self.init_epoch))\n",
    "        except IndexError:\n",
    "            try:\n",
    "                self.model.load_weights(path+\"/model-weights.hdf5\")\n",
    "                print(\"{0} weights loaded, starting from epoch {1}\".format(self.model_type, self.init_epoch))\n",
    "            except OSError:\n",
    "                pass\n",
    "        return\n",
    "\n",
    "    def fit_model(self, X_trn, Y_trn, verbose=1, validation_split=0.2, batch_size=6, epochs=10):\n",
    "        self.model.fit(x=X_trn, y=Y_trn, verbose=verbose, validation_split=validation_split, \n",
    "                       batch_size=batch_size, epochs=epochs,\n",
    "                       callbacks=self.callbackList, initial_epoch=self.init_epoch)\n",
    "        return\n",
    "\n",
    "    def save_weights(self, suffix='model-1'):\n",
    "\n",
    "        if self.model_type == None:\n",
    "            raise ValueError('model is not built yet, please build 1D, 2D or 3D convnet model')\n",
    "        else:\n",
    "            path = './{0}'.format(self.model_type)\n",
    "\n",
    "        filepath = path+'/{0}.hdf5'.format(suffix)\n",
    "        self.model.save_weights(filepath=filepath)\n",
    "        return\n",
    "        \n",
    "    def load_weights(self, filepath):\n",
    "\n",
    "        if self.model_type == None:\n",
    "            raise ValueError('model is not built yet, please build 1D, 2D or 3D convnet model')\n",
    "\n",
    "        self.model.load_weights(filepath=filepath)\n",
    "        return\n",
    "        \n",
    "    def predict(self, X_tst, verbose=1):\n",
    "        \n",
    "        return self.model.predict(X_tst, verbose=verbose)"
   ]
  },
  {
   "cell_type": "markdown",
   "metadata": {},
   "source": [
    "load 100 X-Y samples from block1, and split into train and test sets"
   ]
  },
  {
   "cell_type": "code",
   "execution_count": 5,
   "metadata": {
    "collapsed": true
   },
   "outputs": [],
   "source": [
    "data = Data('./data/block1/', num=100)\n",
    "X_trn, X_tst, Y_trn, Y_tst = data.trn_tst_split(test_rate=0.1, random_seed=42)"
   ]
  },
  {
   "cell_type": "markdown",
   "metadata": {},
   "source": [
    "visualize images and labels"
   ]
  },
  {
   "cell_type": "code",
   "execution_count": 39,
   "metadata": {},
   "outputs": [
    {
     "data": {
      "text/plain": [
       "<matplotlib.image.AxesImage at 0x19586375198>"
      ]
     },
     "execution_count": 39,
     "metadata": {},
     "output_type": "execute_result"
    },
    {
     "data": {
      "image/png": "[encoded data removed]",
      "text/plain": [
       "<Figure size 432x288 with 2 Axes>"
      ]
     },
     "metadata": {},
     "output_type": "display_data"
    }
   ],
   "source": [
    "idx = 10\n",
    "rock_class = 7\n",
    "\n",
    "img = X_trn[idx,:,:,:]\n",
    "lbl = Y_trn[idx,:,:,:]\n",
    "\n",
    "img_rgb = img[:, :, ::-1][:, :, :3]\n",
    "plt.subplot(221)\n",
    "plt.imshow(img_rgb)\n",
    "plt.subplot(222)\n",
    "plt.imshow(lbl[:,:,rock_class])"
   ]
  },
  {
   "cell_type": "markdown",
   "metadata": {},
   "source": [
    "start to build and train Conv2D"
   ]
  },
  {
   "cell_type": "code",
   "execution_count": 40,
   "metadata": {},
   "outputs": [
    {
     "name": "stdout",
     "output_type": "stream",
     "text": [
      "building Conv2D ...\n",
      "[64, 64]\n",
      "[64]\n",
      "compiling model ...\n"
     ]
    }
   ],
   "source": [
    "conv = myModel()\n",
    "\n",
    "# build Conv2D\n",
    "conv.build_Conv2D(use_tfboard=True)\n",
    "\n",
    "# now the tensorboard event file is saved in ./logs\n",
    "# the training process, graph and statistics can be\n",
    "# visualize by tensorboard\n",
    "\n",
    "# compile with loss and optimizer\n",
    "conv.compile_model(verbose=False)\n",
    "\n",
    "# build callback for the details of train process\n",
    "conv.build_callbackList()"
   ]
  },
  {
   "cell_type": "code",
   "execution_count": 44,
   "metadata": {
    "collapsed": true
   },
   "outputs": [],
   "source": [
    "from keras.models import Sequential\n",
    "from keras.layers import Convolution1D"
   ]
  },
  {
   "cell_type": "code",
   "execution_count": 56,
   "metadata": {},
   "outputs": [
    {
     "name": "stderr",
     "output_type": "stream",
     "text": [
      "C:\\Users\\yuch\\Downloads\\anaconda3\\envs\\nz_convnet\\lib\\site-packages\\ipykernel_launcher.py:4: UserWarning: Update your `Conv1D` call to the Keras 2 API: `Conv1D(input_shape=(12, 1), filters=512, kernel_size=2)`\n",
      "  after removing the cwd from sys.path.\n"
     ]
    }
   ],
   "source": [
    "nb_features = 12\n",
    "nb_class = 9\n",
    "model = Sequential()\n",
    "model.add(Convolution1D(nb_filter=512, filter_length=2, input_shape=(nb_features, 1)))\n",
    "model.add(Activation('relu'))\n",
    "model.add(Flatten())\n",
    "model.add(Dropout(0.4))\n",
    "model.add(Dense(2048, activation='relu'))\n",
    "model.add(Dense(1024, activation='relu'))\n",
    "model.add(Dense(nb_class))\n",
    "model.add(Activation('softmax'))"
   ]
  },
  {
   "cell_type": "code",
   "execution_count": 57,
   "metadata": {
    "collapsed": true
   },
   "outputs": [],
   "source": [
    "model.compile(loss='categorical_crossentropy', \n",
    "              optimizer='adam' ,metrics=['accuracy'], verbose=True)"
   ]
  },
  {
   "cell_type": "code",
   "execution_count": 58,
   "metadata": {},
   "outputs": [
    {
     "name": "stdout",
     "output_type": "stream",
     "text": [
      "_________________________________________________________________\n",
      "Layer (type)                 Output Shape              Param #   \n",
      "=================================================================\n",
      "conv1d_5 (Conv1D)            (None, 11, 512)           1536      \n",
      "_________________________________________________________________\n",
      "activation_6 (Activation)    (None, 11, 512)           0         \n",
      "_________________________________________________________________\n",
      "flatten_4 (Flatten)          (None, 5632)              0         \n",
      "_________________________________________________________________\n",
      "dropout_4 (Dropout)          (None, 5632)              0         \n",
      "_________________________________________________________________\n",
      "dense_9 (Dense)              (None, 2048)              11536384  \n",
      "_________________________________________________________________\n",
      "dense_10 (Dense)             (None, 1024)              2098176   \n",
      "_________________________________________________________________\n",
      "dense_11 (Dense)             (None, 9)                 9225      \n",
      "_________________________________________________________________\n",
      "activation_7 (Activation)    (None, 9)                 0         \n",
      "=================================================================\n",
      "Total params: 13,645,321\n",
      "Trainable params: 13,645,321\n",
      "Non-trainable params: 0\n",
      "_________________________________________________________________\n",
      "None\n"
     ]
    }
   ],
   "source": [
    "print(model.summary())"
   ]
  },
  {
   "cell_type": "code",
   "execution_count": 13,
   "metadata": {},
   "outputs": [
    {
     "name": "stdout",
     "output_type": "stream",
     "text": [
      "Train on 72 samples, validate on 18 samples\n",
      "Epoch 1/10\n",
      "72/72 [==============================] - 127s 2s/step - loss: 0.6729 - acc: 0.1132 - val_loss: 0.8732 - val_acc: 0.0722\n",
      "\n",
      "Epoch 00001: val_acc improved from -inf to 0.07224, saving model to ./Conv2D/weights-01-0.07.hdf5\n",
      "Epoch 2/10\n",
      "72/72 [==============================] - 131s 2s/step - loss: 0.6394 - acc: 0.1049 - val_loss: 0.6121 - val_acc: 0.0898\n",
      "\n",
      "Epoch 00002: val_acc improved from 0.07224 to 0.08982, saving model to ./Conv2D/weights-02-0.09.hdf5\n",
      "Epoch 3/10\n",
      "72/72 [==============================] - 132s 2s/step - loss: 0.5943 - acc: 0.1260 - val_loss: 0.6281 - val_acc: 0.0676\n",
      "\n",
      "Epoch 00003: val_acc did not improve\n",
      "Epoch 4/10\n",
      "72/72 [==============================] - 129s 2s/step - loss: 0.5513 - acc: 0.1674 - val_loss: 0.6632 - val_acc: 0.1054\n",
      "\n",
      "Epoch 00004: val_acc improved from 0.08982 to 0.10542, saving model to ./Conv2D/weights-04-0.11.hdf5\n",
      "Epoch 5/10\n",
      "72/72 [==============================] - 125s 2s/step - loss: 0.6139 - acc: 0.1032 - val_loss: 0.6233 - val_acc: 0.0951\n",
      "\n",
      "Epoch 00005: val_acc did not improve\n",
      "Epoch 6/10\n",
      "72/72 [==============================] - 129s 2s/step - loss: 0.5543 - acc: 0.1324 - val_loss: 0.6146 - val_acc: 0.0670\n",
      "\n",
      "Epoch 00006: val_acc did not improve\n",
      "Epoch 7/10\n",
      "72/72 [==============================] - 125s 2s/step - loss: 0.5436 - acc: 0.1329 - val_loss: 2.1041 - val_acc: 1.0088e-04\n",
      "\n",
      "Epoch 00007: val_acc did not improve\n",
      "Epoch 8/10\n",
      "72/72 [==============================] - 125s 2s/step - loss: 0.6961 - acc: 0.1094 - val_loss: 0.5881 - val_acc: 0.1297\n",
      "\n",
      "Epoch 00008: val_acc improved from 0.10542 to 0.12965, saving model to ./Conv2D/weights-08-0.13.hdf5\n",
      "Epoch 9/10\n",
      "72/72 [==============================] - 125s 2s/step - loss: 0.5933 - acc: 0.1040 - val_loss: 0.6050 - val_acc: 0.0956\n",
      "\n",
      "Epoch 00009: val_acc did not improve\n",
      "Epoch 10/10\n",
      "72/72 [==============================] - 124s 2s/step - loss: 0.5650 - acc: 0.1547 - val_loss: 0.6527 - val_acc: 0.0955\n",
      "\n",
      "Epoch 00010: val_acc did not improve\n"
     ]
    }
   ],
   "source": [
    "# start to training\n",
    "conv.fit_model(X_trn=X_trn, Y_trn=Y_trn, epochs=10, verbose=1)"
   ]
  },
  {
   "cell_type": "markdown",
   "metadata": {},
   "source": [
    "predict on test data"
   ]
  },
  {
   "cell_type": "code",
   "execution_count": 14,
   "metadata": {
    "collapsed": true
   },
   "outputs": [],
   "source": [
    "# conv.save_weights()\n",
    "# conv.load_weights('./Conv2D/model-1.hdf5')"
   ]
  },
  {
   "cell_type": "code",
   "execution_count": 15,
   "metadata": {
    "scrolled": true
   },
   "outputs": [
    {
     "name": "stdout",
     "output_type": "stream",
     "text": [
      "\r",
      "10/10 [==============================] - 5s 544ms/step\n"
     ]
    }
   ],
   "source": [
    "Y_preds = conv.predict(X_tst=X_tst)"
   ]
  },
  {
   "cell_type": "markdown",
   "metadata": {},
   "source": [
    "visualize predicted Y"
   ]
  },
  {
   "cell_type": "code",
   "execution_count": 36,
   "metadata": {},
   "outputs": [
    {
     "data": {
      "text/plain": [
       "<matplotlib.image.AxesImage at 0x14c02429828>"
      ]
     },
     "execution_count": 36,
     "metadata": {},
     "output_type": "execute_result"
    },
    {
     "data": {
      "image/png": "[encoded data removed]",
      "text/plain": [
       "<Figure size 432x288 with 2 Axes>"
      ]
     },
     "metadata": {},
     "output_type": "display_data"
    }
   ],
   "source": [
    "idx = 4\n",
    "n_class = 5\n",
    "plt.subplot(221)\n",
    "plt.imshow(Y_tst[idx,:,:,n_class])\n",
    "plt.subplot(222)\n",
    "plt.imshow(Y_preds[idx,:,:,n_class])"
   ]
  },
  {
   "cell_type": "code",
   "execution_count": 41,
   "metadata": {},
   "outputs": [
    {
     "data": {
      "text/plain": [
       "(array([  386,     0, 65000,     0,     0,     0,     0,   123,     0,\n",
       "           27], dtype=int64),\n",
       " array([4. , 4.4, 4.8, 5.2, 5.6, 6. , 6.4, 6.8, 7.2, 7.6, 8. ]))"
      ]
     },
     "execution_count": 41,
     "metadata": {},
     "output_type": "execute_result"
    }
   ],
   "source": [
    "np.histogram(np.argmax(Y_preds[idx,:,:,:], axis=2))"
   ]
  },
  {
   "cell_type": "code",
   "execution_count": null,
   "metadata": {
    "collapsed": true
   },
   "outputs": [],
   "source": []
  }
 ],
 "metadata": {
  "kernelspec": {
   "display_name": "Python 3",
   "language": "python",
   "name": "python3"
  },
  "language_info": {
   "codemirror_mode": {
    "name": "ipython",
    "version": 3
   },
   "file_extension": ".py",
   "mimetype": "text/x-python",
   "name": "python",
   "nbconvert_exporter": "python",
   "pygments_lexer": "ipython3",
   "version": "3.6.2"
  }
 },
 "nbformat": 4,
 "nbformat_minor": 2
}
